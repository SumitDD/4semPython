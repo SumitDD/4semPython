{
 "cells": [
  {
   "cell_type": "code",
   "execution_count": 11,
   "metadata": {},
   "outputs": [
    {
     "name": "stdout",
     "output_type": "stream",
     "text": [
      "      Col1  Col2  col3\n",
      "Row1     1     2     3\n",
      "Row2     4     5     6\n",
      "Row3     7     8     9\n"
     ]
    }
   ],
   "source": [
    "import pandas as pd\n",
    "import numpy as np\n",
    "import matplotlib.pyplot as plt\n",
    "\n",
    "data = np.array([['','Col1','Col2','col3'],\n",
    "                ['Row1',1,2,3],\n",
    "                ['Row2',4,5,6],\n",
    "                ['Row3',7,8,9]])\n",
    "\n",
    "df = pd.DataFrame([[1,2,3], [4,5,6], [7,8,9]],index=['Row1', 'Row2', 'Row3'],columns=['Col1','Col2','col3'])\n",
    "\n",
    "print(df);"
   ]
  },
  {
   "cell_type": "code",
   "execution_count": 34,
   "metadata": {},
   "outputs": [
    {
     "data": {
      "text/plain": [
       "Country Name\n",
       "Aruba              872.746\n",
       "Afghanistan       8467.103\n",
       "Angola           44851.077\n",
       "Albania           5489.499\n",
       "Andorra            462.042\n",
       "                   ...    \n",
       "Kosovo            7260.660\n",
       "Yemen, Rep.      24667.909\n",
       "South Africa    484495.041\n",
       "Zambia            4503.076\n",
       "Zimbabwe         12115.768\n",
       "Name: 2014, Length: 264, dtype: float64"
      ]
     },
     "execution_count": 34,
     "metadata": {},
     "output_type": "execute_result"
    }
   ],
   "source": [
    "import pandas as pd\n",
    "\n",
    "data = pd.read_csv('../data/API_EN.ATM.CO2E.KT_DS2_en_csv_v2_1345584.csv', skiprows=4)\n",
    "data = data.set_index('Country Name')\n",
    "data['2014']\n",
    "\n",
    "sorted_2014 = data['2014'].sort_values(ascending=False)\n",
    "sorted_2014[:10]"
   ]
  },
  {
   "cell_type": "code",
   "execution_count": null,
   "metadata": {},
   "outputs": [],
   "source": []
  }
 ],
 "metadata": {
  "kernelspec": {
   "display_name": "Python 3",
   "language": "python",
   "name": "python3"
  },
  "language_info": {
   "codemirror_mode": {
    "name": "ipython",
    "version": 3
   },
   "file_extension": ".py",
   "mimetype": "text/x-python",
   "name": "python",
   "nbconvert_exporter": "python",
   "pygments_lexer": "ipython3",
   "version": "3.7.6"
  }
 },
 "nbformat": 4,
 "nbformat_minor": 4
}
